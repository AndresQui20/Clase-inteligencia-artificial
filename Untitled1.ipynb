{
  "nbformat": 4,
  "nbformat_minor": 0,
  "metadata": {
    "colab": {
      "provenance": [],
      "authorship_tag": "ABX9TyNI61PBDxK2iicYcQBsiqCO",
      "include_colab_link": true
    },
    "kernelspec": {
      "name": "python3",
      "display_name": "Python 3"
    },
    "language_info": {
      "name": "python"
    }
  },
  "cells": [
    {
      "cell_type": "markdown",
      "metadata": {
        "id": "view-in-github",
        "colab_type": "text"
      },
      "source": [
        "<a href=\"https://colab.research.google.com/github/AndresQui20/Clase-inteligencia-artificial/blob/main/Untitled1.ipynb\" target=\"_parent\"><img src=\"https://colab.research.google.com/assets/colab-badge.svg\" alt=\"Open In Colab\"/></a>"
      ]
    },
    {
      "cell_type": "code",
      "execution_count": null,
      "metadata": {
        "id": "zNrSzDvD6KkE"
      },
      "outputs": [],
      "source": [
        "# prompt: para que sirve numpi y pandas en phyton\n",
        "\n",
        "NumPy y Pandas son bibliotecas fundamentales en Python para la ciencia de datos y el análisis numérico.  Sirven para manipular y analizar datos de manera eficiente.\n",
        "\n",
        "**NumPy (Numerical Python):**\n",
        "\n",
        "* **Arrays n-dimensionales:**  Su principal función es proporcionar el objeto `ndarray` (N-dimensional array), una estructura de datos que permite almacenar y operar sobre grandes conjuntos de datos numéricos de forma eficiente.  Es mucho más rápido y eficiente que las listas de Python para operaciones matemáticas.\n",
        "* **Operaciones matemáticas:** NumPy incluye una amplia variedad de funciones matemáticas para operar sobre arrays, incluyendo álgebra lineal, transformadas de Fourier, números aleatorios, etc.\n",
        "* **Base para otras bibliotecas:** Muchas otras bibliotecas de Python (como Pandas, SciPy, Matplotlib) se basan en NumPy.\n",
        "\n",
        "**Pandas:**\n",
        "\n",
        "* **Estructuras de datos:** Pandas introduce dos estructuras de datos clave: `Series` (unidimensional) y `DataFrame` (bidimensional).  Los `DataFrame` son similares a las tablas de una base de datos o hojas de cálculo, y permiten organizar datos en filas y columnas con etiquetas.\n",
        "* **Manipulación de datos:** Pandas proporciona herramientas para leer y escribir datos desde/hacia diversos formatos (CSV, Excel, bases de datos, etc.), limpiar, transformar, combinar, y analizar datos.\n",
        "* **Análisis de datos:** Ofrece funcionalidades para el análisis estadístico, la agrupación de datos, la manipulación de series temporales, etc.\n",
        "\n",
        "En resumen:\n",
        "\n",
        "* **NumPy** se centra en la eficiencia en el cálculo numérico con arrays.\n",
        "* **Pandas** se centra en la manipulación y análisis de datos estructurados (tablas).\n",
        "\n",
        "Juntos, NumPy y Pandas forman una base poderosa para la mayoría de las tareas de análisis de datos en Python.\n"
      ]
    }
  ]
}